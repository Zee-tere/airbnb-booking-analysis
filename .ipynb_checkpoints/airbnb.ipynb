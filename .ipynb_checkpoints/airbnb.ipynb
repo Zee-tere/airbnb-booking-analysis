{
 "cells": [
  {
   "cell_type": "code",
   "execution_count": 1,
   "id": "65c25498-43be-44a9-9ed3-599b397f63c9",
   "metadata": {},
   "outputs": [],
   "source": [
    "import pandas as pd"
   ]
  },
  {
   "cell_type": "code",
   "execution_count": 62,
   "id": "d81ad988-8bee-4b4a-8cbd-718e311d3a95",
   "metadata": {},
   "outputs": [],
   "source": [
    "# Load datasets\n",
    "room_type_path = \"airbnb_room_type.xlsx\"\n",
    "last_review_path = \"airbnb_last_review.tsv\"\n",
    "price_path = \"airbnb_price.csv\""
   ]
  },
  {
   "cell_type": "code",
   "execution_count": 76,
   "id": "b4125b38-d1dd-44dc-8abf-c42bcf7b2980",
   "metadata": {},
   "outputs": [],
   "source": [
    "df_room_type = pd.read_excel(room_type_path)\n",
    "df_last_review = pd.read_csv(last_review_path, sep=\"\\t\")\n",
    "df_price = pd.read_csv(price_path)"
   ]
  },
  {
   "cell_type": "code",
   "execution_count": 77,
   "id": "3f52d2cc-bc50-491c-9cf6-1a164cf704f1",
   "metadata": {},
   "outputs": [],
   "source": [
    "# Clean 'price' column\n",
    "df_price[\"price\"] = df_price[\"price\"].str.replace(\" dollars\", \"\").astype(float)"
   ]
  },
  {
   "cell_type": "code",
   "execution_count": 78,
   "id": "1e417066-16f8-4979-970c-a0b4a139338d",
   "metadata": {},
   "outputs": [],
   "source": [
    "# Convert 'last_review' to datetime\n",
    "df_last_review[\"last_review\"] = pd.to_datetime(df_last_review[\"last_review\"], errors=\"coerce\")"
   ]
  },
  {
   "cell_type": "code",
   "execution_count": 79,
   "id": "7bd38b6d-2c02-4d46-a90f-9af29e038723",
   "metadata": {},
   "outputs": [
    {
     "name": "stdout",
     "output_type": "stream",
     "text": [
      "Index(['listing_id', 'description', 'room_type'], dtype='object')\n",
      "Index(['listing_id', 'host_name', 'last_review'], dtype='object')\n"
     ]
    }
   ],
   "source": [
    "print(df_room_type.columns)\n",
    "print(df_last_review.columns)"
   ]
  },
  {
   "cell_type": "code",
   "execution_count": 81,
   "id": "3ecb0491-476b-464e-8726-ab6cf06eea1c",
   "metadata": {},
   "outputs": [],
   "source": [
    "# Handle missing values\n",
    "df_room_type[\"description\"].fillna(\"Unknown\", inplace=True)\n",
    "df_last_review[\"host_name\"].fillna(\"Unknown\", inplace=True)"
   ]
  },
  {
   "cell_type": "code",
   "execution_count": 82,
   "id": "7df973f9-f0b1-41b4-ac57-fd83c86c1292",
   "metadata": {},
   "outputs": [],
   "source": [
    "# Standardizing room type categories\n",
    "room_type_mapping = {\n",
    "    \"Entire Home/Apt\": \"Entire Home/Apt\",\n",
    "    \"ENTIRE HOME/APT\": \"Entire Home/Apt\",\n",
    "    \"Private Room\": \"Private Room\",\n",
    "    \"private room\": \"Private Room\",\n",
    "    \"PRIVATE ROOM\": \"Private Room\",\n",
    "    \"Shared Room\": \"Shared Room\",\n",
    "    \"SHARED ROOM\": \"Shared Room\",\n",
    "    \"Entire home/apt\": \"Entire Home/Apt\",\n",
    "    \"Entire home\": \"Entire Home/Apt\",\n",
    "    \"entire home/apt\": \"Entire Home/Apt\",\n",
    "    \"Private room\": \"Private Room\",\n",
    "    \"private Room\": \"Private Room\",\n",
    "    \"Private rm\": \"Private Room\",\n",
    "    \"Shared room\": \"Shared Room\",\n",
    "    \"shared room\": \"Shared Room\",\n",
    "    \"Shared rm\": \"Shared Room\"\n",
    "    }"
   ]
  },
  {
   "cell_type": "code",
   "execution_count": 83,
   "id": "1d81ca42-a227-4621-85a7-75e988c7416a",
   "metadata": {},
   "outputs": [],
   "source": [
    "df_room_type[\"room_type\"] = df_room_type[\"room_type\"].replace(room_type_mapping)"
   ]
  },
  {
   "cell_type": "code",
   "execution_count": 84,
   "id": "d2b33c42-3af1-4cce-9064-fb17c45202c5",
   "metadata": {},
   "outputs": [],
   "source": [
    "# Merge datasets on 'listing_id'\n",
    "df_merged = df_room_type.merge(df_last_review, on=\"listing_id\").merge(df_price, on=\"listing_id\")"
   ]
  },
  {
   "cell_type": "code",
   "execution_count": 85,
   "id": "765de9b6-c0fc-4d50-b06c-14cb38232c9f",
   "metadata": {},
   "outputs": [],
   "source": [
    "df_merged[\"last_review_year\"] = df_merged[\"last_review\"].dt.year"
   ]
  },
  {
   "cell_type": "code",
   "execution_count": 86,
   "id": "79339842-d2ee-42e2-8348-48e4da2a62bc",
   "metadata": {},
   "outputs": [],
   "source": [
    "# cleaned dataset\n",
    "df_merged.to_csv(\"airbnb_cleaned.csv\", index=False)"
   ]
  },
  {
   "cell_type": "code",
   "execution_count": 87,
   "id": "8c5e1242-18e4-454f-8871-24ea518a4cb5",
   "metadata": {},
   "outputs": [
    {
     "name": "stdout",
     "output_type": "stream",
     "text": [
      "<class 'pandas.core.frame.DataFrame'>\n",
      "RangeIndex: 25209 entries, 0 to 25208\n",
      "Data columns (total 8 columns):\n",
      " #   Column            Non-Null Count  Dtype         \n",
      "---  ------            --------------  -----         \n",
      " 0   listing_id        25209 non-null  int64         \n",
      " 1   description       25209 non-null  object        \n",
      " 2   room_type         25209 non-null  object        \n",
      " 3   host_name         25209 non-null  object        \n",
      " 4   last_review       25209 non-null  datetime64[ns]\n",
      " 5   price             25209 non-null  float64       \n",
      " 6   nbhood_full       25209 non-null  object        \n",
      " 7   last_review_year  25209 non-null  int32         \n",
      "dtypes: datetime64[ns](1), float64(1), int32(1), int64(1), object(4)\n",
      "memory usage: 1.4+ MB\n",
      "None\n",
      "   listing_id                                description        room_type  \\\n",
      "0        2595                      Skylit Midtown Castle  Entire Home/Apt   \n",
      "1        3831            Cozy Entire Floor of Brownstone  Entire Home/Apt   \n",
      "2        5099  Large Cozy 1 BR Apartment In Midtown East  Entire Home/Apt   \n",
      "3        5178            Large Furnished Room Near B'way     Private Room   \n",
      "4        5238         Cute & Cozy Lower East Side 1 bdrm  Entire Home/Apt   \n",
      "\n",
      "     host_name last_review  price                nbhood_full  last_review_year  \n",
      "0     Jennifer  2019-05-21  225.0         Manhattan, Midtown              2019  \n",
      "1  LisaRoxanne  2019-07-05   89.0     Brooklyn, Clinton Hill              2019  \n",
      "2        Chris  2019-06-22  200.0     Manhattan, Murray Hill              2019  \n",
      "3     Shunichi  2019-06-24   79.0  Manhattan, Hell's Kitchen              2019  \n",
      "4          Ben  2019-06-09  150.0       Manhattan, Chinatown              2019  \n"
     ]
    }
   ],
   "source": [
    "print(df_merged.info())\n",
    "print(df_merged.head())"
   ]
  },
  {
   "cell_type": "code",
   "execution_count": null,
   "id": "8a2c8c3f-5bc3-48f8-ba3d-401e0519b931",
   "metadata": {},
   "outputs": [],
   "source": []
  }
 ],
 "metadata": {
  "kernelspec": {
   "display_name": "Python 3 (ipykernel)",
   "language": "python",
   "name": "python3"
  },
  "language_info": {
   "codemirror_mode": {
    "name": "ipython",
    "version": 3
   },
   "file_extension": ".py",
   "mimetype": "text/x-python",
   "name": "python",
   "nbconvert_exporter": "python",
   "pygments_lexer": "ipython3",
   "version": "3.13.2"
  }
 },
 "nbformat": 4,
 "nbformat_minor": 5
}
